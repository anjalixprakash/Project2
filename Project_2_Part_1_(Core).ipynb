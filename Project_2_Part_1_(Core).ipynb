{
  "nbformat": 4,
  "nbformat_minor": 0,
  "metadata": {
    "colab": {
      "provenance": [],
      "authorship_tag": "ABX9TyNjRTaXR1lTQzWSgVMQC2wL",
      "include_colab_link": true
    },
    "kernelspec": {
      "name": "python3",
      "display_name": "Python 3"
    },
    "language_info": {
      "name": "python"
    }
  },
  "cells": [
    {
      "cell_type": "markdown",
      "metadata": {
        "id": "view-in-github",
        "colab_type": "text"
      },
      "source": [
        "<a href=\"https://colab.research.google.com/github/anjalixprakash/Project2/blob/main/Project_2_Part_1_(Core).ipynb\" target=\"_parent\"><img src=\"https://colab.research.google.com/assets/colab-badge.svg\" alt=\"Open In Colab\"/></a>"
      ]
    },
    {
      "cell_type": "markdown",
      "source": [
        "# Project 2 - Part 1 (core)\n",
        "\n",
        "Anjali Prakash\n",
        "\n",
        "Source 1: https://www.kaggle.com/datasets/swathiunnikrishnan/amazon-consumer-behaviour-dataset\n",
        "\n",
        "Source 2: https://www.kaggle.com/datasets/wenruliu/adult-income-dataset\n"
      ],
      "metadata": {
        "id": "AVy5jxNA1atY"
      }
    },
    {
      "cell_type": "code",
      "execution_count": 14,
      "metadata": {
        "colab": {
          "base_uri": "https://localhost:8080/"
        },
        "id": "zZdsI0281XLu",
        "outputId": "b9338897-2c19-4967-a2ad-d57c2bdca164"
      },
      "outputs": [
        {
          "output_type": "stream",
          "name": "stdout",
          "text": [
            "Drive already mounted at /content/drive; to attempt to forcibly remount, call drive.mount(\"/content/drive\", force_remount=True).\n"
          ]
        }
      ],
      "source": [
        "from google.colab import drive\n",
        "drive.mount('/content/drive')"
      ]
    },
    {
      "cell_type": "code",
      "source": [
        "import pandas as pd"
      ],
      "metadata": {
        "id": "0SneAAR02YfE"
      },
      "execution_count": 15,
      "outputs": []
    },
    {
      "cell_type": "code",
      "source": [
        "# Load data\n",
        "amazondata = '/content/drive/MyDrive/CodingDojo/02-MachineLearning/Week07/Data/Amazon Customer Behavior Survey.csv.xls'\n",
        "df = pd.read_csv(amazondata)\n",
        "df.head()\n"
      ],
      "metadata": {
        "colab": {
          "base_uri": "https://localhost:8080/"
        },
        "id": "8MWJdL-M1yeZ",
        "outputId": "3dbb2b41-0526-4e4c-fe12-d430de79d067"
      },
      "execution_count": 19,
      "outputs": [
        {
          "output_type": "execute_result",
          "data": {
            "text/plain": [
              "(602, 23)"
            ]
          },
          "metadata": {},
          "execution_count": 19
        }
      ]
    },
    {
      "cell_type": "markdown",
      "source": [
        "First choice: dataset 1\n",
        "\n",
        "1. Source of data\n",
        "- Kaggle\n",
        "\n",
        "2. Brief description of data\n",
        "- This data provides Amazon consumer insights\n",
        "3. What is the target?\n",
        "- I'm setting the target to be 'customer_satisfaction'.\n",
        "\n",
        "4. What does one row represent? (A person? A business? An event? A product?)\n",
        "- A single row represents a person\n",
        "\n",
        "5. Is this a classification or regression problem?\n",
        "- This would be a classification problem\n",
        "6. How many features does the data have?\n",
        "- 23\n",
        "7. How many rows are in the dataset?\n",
        "- 602 rows\n",
        "8. What, if any, challenges do you foresee in cleaning, exploring, or modeling this dataset?\n",
        "- Cleaning the timestamp column if I plan to use it. Shortening some of the object columns while still maintaining it's relavance for easier readability."
      ],
      "metadata": {
        "id": "jeFQ0A9J9G5s"
      }
    },
    {
      "cell_type": "code",
      "source": [
        "incomedata = '/content/drive/MyDrive/CodingDojo/02-MachineLearning/Week07/Data/adult.csv'\n",
        "dff = pd.read_csv(incomedata)\n",
        "dff.head()\n",
        "dff.shape"
      ],
      "metadata": {
        "colab": {
          "base_uri": "https://localhost:8080/"
        },
        "id": "RIOOrLG92b0T",
        "outputId": "4379fcc1-7c74-4600-ae32-94217d2bece0"
      },
      "execution_count": 20,
      "outputs": [
        {
          "output_type": "execute_result",
          "data": {
            "text/plain": [
              "(48842, 15)"
            ]
          },
          "metadata": {},
          "execution_count": 20
        }
      ]
    },
    {
      "cell_type": "markdown",
      "source": [
        "Second choice: dataset 2\n",
        "\n",
        "1. Source of data\n",
        "- Kaggle\n",
        "\n",
        "2. Brief description of data\n",
        "- This data set shows an individual's income based on various factors.\n",
        "3. What is the target?\n",
        "income\n",
        "4. What does one row represent? (A person? A business? An event? A product?)\n",
        "- A person\n",
        "\n",
        "5. Is this a classification or regression problem?\n",
        "- Classification, as income is split between making more or less than 50k.\n",
        "\n",
        "6. How many features does the data have?\n",
        "- 15\n",
        "7. How many rows are in the dataset?\n",
        "- 48842\n",
        "\n",
        "8. What, if any, challenges do you foresee in cleaning, exploring, or modeling this dataset?\n",
        "- There are inconsistencies in the labelling of the education column that may take some time to really clean up."
      ],
      "metadata": {
        "id": "e2VvHYq2-c1q"
      }
    }
  ]
}